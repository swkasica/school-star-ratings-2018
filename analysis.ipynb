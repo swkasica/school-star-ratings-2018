{
 "cells": [
  {
   "cell_type": "markdown",
   "metadata": {},
   "source": [
    "# Maryland schools star ratings analysis"
   ]
  },
  {
   "cell_type": "markdown",
   "metadata": {},
   "source": [
    "By [Christine Zhang](mailto:czhang@baltsun.com)"
   ]
  },
  {
   "cell_type": "markdown",
   "metadata": {},
   "source": [
    "An analysis of data from the [Maryland State Department of Education Report Card](http://mdreportcard.org/) for a December 4, 2018 Baltimore Sun story titled [\"Maryland releases first star ratings for every public school; 60 percent earn four or five stars out of five\"](https://www.baltimoresun.com/news/maryland/education/k-12/bs-md-star-rating-release-20181203-story.html) by Liz Bowie and Talia Richman.\n",
    "\n",
    "Here are the key findings:\n",
    "\n",
    "- Only 35 of the state's more than 1,300 schools received one star, the lowest rating, while 219 received five stars.\n",
    "- In Baltimore City, 23 schools earned one star.\n",
    "- More than half of the city’s schools received one- or two-star ratings.\n",
    "- Howard County had 91 percent of its schools rated four and five stars, while Baltimore County had 96 of its 160 schools rated as four or five stars.\n",
    "- In Harford County, 70 percent of schools earned either a four- or five-star rating.\n",
    "- Fourteen school systems in the state had no one- or two-star schools."
   ]
  },
  {
   "cell_type": "markdown",
   "metadata": {},
   "source": [
    "## How we did it"
   ]
  },
  {
   "cell_type": "markdown",
   "metadata": {},
   "source": [
    "### Import R data analysis libraries"
   ]
  },
  {
   "cell_type": "code",
   "execution_count": 1,
   "metadata": {},
   "outputs": [],
   "source": [
    "suppressMessages(library('tidyverse'))\n",
    "suppressMessages(library('janitor'))"
   ]
  },
  {
   "cell_type": "markdown",
   "metadata": {},
   "source": [
    "Read in the scores data for analysis."
   ]
  },
  {
   "cell_type": "code",
   "execution_count": 2,
   "metadata": {},
   "outputs": [],
   "source": [
    "scores <- suppressMessages(read_csv('input/accountability_schools_download_file.csv', na = 'na') %>% clean_names())"
   ]
  },
  {
   "cell_type": "markdown",
   "metadata": {},
   "source": [
    "### Finding: Only 35 of the state's more than 1,300 schools received one star, the lowest rating, while 219 received five stars."
   ]
  },
  {
   "cell_type": "markdown",
   "metadata": {},
   "source": [
    "Print the number of schools in the state dataset."
   ]
  },
  {
   "cell_type": "code",
   "execution_count": 3,
   "metadata": {},
   "outputs": [
    {
     "name": "stdout",
     "output_type": "stream",
     "text": [
      "[1] \"There were 1319 public schools in the Maryland school system in the 2017-18 school year.\"\n"
     ]
    }
   ],
   "source": [
    "print(paste(\"There were\", length(scores$school_name), \n",
    "            \"public schools in the Maryland school system in the 2017-18 school year.\"))"
   ]
  },
  {
   "cell_type": "markdown",
   "metadata": {},
   "source": [
    "Use `table()` to view the breakdown of schools by star rating."
   ]
  },
  {
   "cell_type": "code",
   "execution_count": 4,
   "metadata": {},
   "outputs": [
    {
     "data": {
      "text/plain": [
       "\n",
       "  1   2   3   4   5 \n",
       " 35 145 356 564 219 "
      ]
     },
     "metadata": {},
     "output_type": "display_data"
    }
   ],
   "source": [
    "table(scores$star_rating)"
   ]
  },
  {
   "cell_type": "markdown",
   "metadata": {},
   "source": [
    "### Finding: In Baltimore City, 23 schools earned one star."
   ]
  },
  {
   "cell_type": "markdown",
   "metadata": {},
   "source": [
    "Use `filter()` and `table()` to view the breakdown of schools in Baltimore City by star rating."
   ]
  },
  {
   "cell_type": "code",
   "execution_count": 5,
   "metadata": {},
   "outputs": [
    {
     "data": {
      "text/plain": [
       ".\n",
       " 1  2  3  4  5 \n",
       "23 76 45 19  3 "
      ]
     },
     "metadata": {},
     "output_type": "display_data"
    }
   ],
   "source": [
    "scores %>% filter(lea_name == 'Baltimore City') %>% select(star_rating) %>% table() "
   ]
  },
  {
   "cell_type": "markdown",
   "metadata": {},
   "source": [
    "### Finding: More than half of the city’s schools received one- or two-star ratings."
   ]
  },
  {
   "cell_type": "markdown",
   "metadata": {},
   "source": [
    "Use `group_by()` and `summarise()` to calculate the percentage breakdown of schools by star rating. Save this into a dataframe called `scores.sum`."
   ]
  },
  {
   "cell_type": "code",
   "execution_count": 6,
   "metadata": {},
   "outputs": [],
   "source": [
    "scores.sum <- scores %>% group_by(lea_name, star_rating) %>% \n",
    "                         summarise(n = n()) %>%\n",
    "                         mutate(percent = n/sum(n) * 100)"
   ]
  },
  {
   "cell_type": "markdown",
   "metadata": {},
   "source": [
    "Use `filter()` to look just at Baltimore City."
   ]
  },
  {
   "cell_type": "code",
   "execution_count": 7,
   "metadata": {},
   "outputs": [
    {
     "data": {
      "text/html": [
       "<table>\n",
       "<caption>A grouped_df: 5 × 4</caption>\n",
       "<thead>\n",
       "\t<tr><th scope=col>lea_name</th><th scope=col>star_rating</th><th scope=col>n</th><th scope=col>percent</th></tr>\n",
       "\t<tr><th scope=col>&lt;chr&gt;</th><th scope=col>&lt;dbl&gt;</th><th scope=col>&lt;int&gt;</th><th scope=col>&lt;dbl&gt;</th></tr>\n",
       "</thead>\n",
       "<tbody>\n",
       "\t<tr><td>Baltimore City</td><td>1</td><td>23</td><td>13.855422</td></tr>\n",
       "\t<tr><td>Baltimore City</td><td>2</td><td>76</td><td>45.783133</td></tr>\n",
       "\t<tr><td>Baltimore City</td><td>3</td><td>45</td><td>27.108434</td></tr>\n",
       "\t<tr><td>Baltimore City</td><td>4</td><td>19</td><td>11.445783</td></tr>\n",
       "\t<tr><td>Baltimore City</td><td>5</td><td> 3</td><td> 1.807229</td></tr>\n",
       "</tbody>\n",
       "</table>\n"
      ],
      "text/latex": [
       "A grouped\\_df: 5 × 4\n",
       "\\begin{tabular}{llll}\n",
       " lea\\_name & star\\_rating & n & percent\\\\\n",
       " <chr> & <dbl> & <int> & <dbl>\\\\\n",
       "\\hline\n",
       "\t Baltimore City & 1 & 23 & 13.855422\\\\\n",
       "\t Baltimore City & 2 & 76 & 45.783133\\\\\n",
       "\t Baltimore City & 3 & 45 & 27.108434\\\\\n",
       "\t Baltimore City & 4 & 19 & 11.445783\\\\\n",
       "\t Baltimore City & 5 &  3 &  1.807229\\\\\n",
       "\\end{tabular}\n"
      ],
      "text/markdown": [
       "\n",
       "A grouped_df: 5 × 4\n",
       "\n",
       "| lea_name &lt;chr&gt; | star_rating &lt;dbl&gt; | n &lt;int&gt; | percent &lt;dbl&gt; |\n",
       "|---|---|---|---|\n",
       "| Baltimore City | 1 | 23 | 13.855422 |\n",
       "| Baltimore City | 2 | 76 | 45.783133 |\n",
       "| Baltimore City | 3 | 45 | 27.108434 |\n",
       "| Baltimore City | 4 | 19 | 11.445783 |\n",
       "| Baltimore City | 5 |  3 |  1.807229 |\n",
       "\n"
      ],
      "text/plain": [
       "  lea_name       star_rating n  percent  \n",
       "1 Baltimore City 1           23 13.855422\n",
       "2 Baltimore City 2           76 45.783133\n",
       "3 Baltimore City 3           45 27.108434\n",
       "4 Baltimore City 4           19 11.445783\n",
       "5 Baltimore City 5            3  1.807229"
      ]
     },
     "metadata": {},
     "output_type": "display_data"
    }
   ],
   "source": [
    "scores.sum %>% filter(lea_name == 'Baltimore City')"
   ]
  },
  {
   "cell_type": "markdown",
   "metadata": {},
   "source": [
    "Print the percentage of Baltimore City schools receiving one- or two-star ratings."
   ]
  },
  {
   "cell_type": "code",
   "execution_count": 8,
   "metadata": {},
   "outputs": [
    {
     "name": "stdout",
     "output_type": "stream",
     "text": [
      "[1] \"60 percent of the city's schools (more than half) received one- or two-star ratings.\"\n"
     ]
    }
   ],
   "source": [
    "print(paste(round(scores.sum[scores.sum$star_rating == 1 & scores.sum$lea_name == 'Baltimore City', ]$percent + \n",
    "      scores.sum[scores.sum$star_rating == 2 & scores.sum$lea_name == 'Baltimore City', ]$percent), \n",
    "      \"percent of the city's schools (more than half) received one- or two-star ratings.\"))"
   ]
  },
  {
   "cell_type": "markdown",
   "metadata": {},
   "source": [
    "### Finding: Howard County had 91 percent of its schools rated four and five stars, while Baltimore County had 96 of its 160 schools rated as four or five stars."
   ]
  },
  {
   "cell_type": "markdown",
   "metadata": {},
   "source": [
    "Use `filter()` on the `scores.sum` dataframe to view the number and percentage of schools in Howard and Baltimore County rated four or five stars."
   ]
  },
  {
   "cell_type": "code",
   "execution_count": 9,
   "metadata": {},
   "outputs": [
    {
     "data": {
      "text/html": [
       "<table>\n",
       "<caption>A grouped_df: 9 × 4</caption>\n",
       "<thead>\n",
       "\t<tr><th scope=col>lea_name</th><th scope=col>star_rating</th><th scope=col>n</th><th scope=col>percent</th></tr>\n",
       "\t<tr><th scope=col>&lt;chr&gt;</th><th scope=col>&lt;dbl&gt;</th><th scope=col>&lt;int&gt;</th><th scope=col>&lt;dbl&gt;</th></tr>\n",
       "</thead>\n",
       "<tbody>\n",
       "\t<tr><td>Baltimore County</td><td>1</td><td> 2</td><td> 1.250000</td></tr>\n",
       "\t<tr><td>Baltimore County</td><td>2</td><td>16</td><td>10.000000</td></tr>\n",
       "\t<tr><td>Baltimore County</td><td>3</td><td>46</td><td>28.750000</td></tr>\n",
       "\t<tr><td>Baltimore County</td><td>4</td><td>70</td><td>43.750000</td></tr>\n",
       "\t<tr><td>Baltimore County</td><td>5</td><td>26</td><td>16.250000</td></tr>\n",
       "\t<tr><td>Howard          </td><td>1</td><td> 1</td><td> 1.351351</td></tr>\n",
       "\t<tr><td>Howard          </td><td>3</td><td> 6</td><td> 8.108108</td></tr>\n",
       "\t<tr><td>Howard          </td><td>4</td><td>36</td><td>48.648649</td></tr>\n",
       "\t<tr><td>Howard          </td><td>5</td><td>31</td><td>41.891892</td></tr>\n",
       "</tbody>\n",
       "</table>\n"
      ],
      "text/latex": [
       "A grouped\\_df: 9 × 4\n",
       "\\begin{tabular}{llll}\n",
       " lea\\_name & star\\_rating & n & percent\\\\\n",
       " <chr> & <dbl> & <int> & <dbl>\\\\\n",
       "\\hline\n",
       "\t Baltimore County & 1 &  2 &  1.250000\\\\\n",
       "\t Baltimore County & 2 & 16 & 10.000000\\\\\n",
       "\t Baltimore County & 3 & 46 & 28.750000\\\\\n",
       "\t Baltimore County & 4 & 70 & 43.750000\\\\\n",
       "\t Baltimore County & 5 & 26 & 16.250000\\\\\n",
       "\t Howard           & 1 &  1 &  1.351351\\\\\n",
       "\t Howard           & 3 &  6 &  8.108108\\\\\n",
       "\t Howard           & 4 & 36 & 48.648649\\\\\n",
       "\t Howard           & 5 & 31 & 41.891892\\\\\n",
       "\\end{tabular}\n"
      ],
      "text/markdown": [
       "\n",
       "A grouped_df: 9 × 4\n",
       "\n",
       "| lea_name &lt;chr&gt; | star_rating &lt;dbl&gt; | n &lt;int&gt; | percent &lt;dbl&gt; |\n",
       "|---|---|---|---|\n",
       "| Baltimore County | 1 |  2 |  1.250000 |\n",
       "| Baltimore County | 2 | 16 | 10.000000 |\n",
       "| Baltimore County | 3 | 46 | 28.750000 |\n",
       "| Baltimore County | 4 | 70 | 43.750000 |\n",
       "| Baltimore County | 5 | 26 | 16.250000 |\n",
       "| Howard           | 1 |  1 |  1.351351 |\n",
       "| Howard           | 3 |  6 |  8.108108 |\n",
       "| Howard           | 4 | 36 | 48.648649 |\n",
       "| Howard           | 5 | 31 | 41.891892 |\n",
       "\n"
      ],
      "text/plain": [
       "  lea_name         star_rating n  percent  \n",
       "1 Baltimore County 1            2  1.250000\n",
       "2 Baltimore County 2           16 10.000000\n",
       "3 Baltimore County 3           46 28.750000\n",
       "4 Baltimore County 4           70 43.750000\n",
       "5 Baltimore County 5           26 16.250000\n",
       "6 Howard           1            1  1.351351\n",
       "7 Howard           3            6  8.108108\n",
       "8 Howard           4           36 48.648649\n",
       "9 Howard           5           31 41.891892"
      ]
     },
     "metadata": {},
     "output_type": "display_data"
    }
   ],
   "source": [
    "scores.sum %>% filter(lea_name == 'Howard' | lea_name == 'Baltimore County')"
   ]
  },
  {
   "cell_type": "markdown",
   "metadata": {},
   "source": [
    "Print the percentage of Howard County schools and the number of Baltimore County schools receiving one- or two-star ratings."
   ]
  },
  {
   "cell_type": "code",
   "execution_count": 10,
   "metadata": {},
   "outputs": [
    {
     "name": "stdout",
     "output_type": "stream",
     "text": [
      "[1] \"91 percent of Howard County schools received four- or five-star ratings.\"\n",
      "[1] \"96 Baltimore County's 160 schools received four- or five-star ratings.\"\n"
     ]
    }
   ],
   "source": [
    "print(paste(round(scores.sum[scores.sum$star_rating == 4 & scores.sum$lea_name == 'Howard', ]$percent + \n",
    "      scores.sum[scores.sum$star_rating == 5 & scores.sum$lea_name == 'Howard', ]$percent), \n",
    "      \"percent of Howard County schools received four- or five-star ratings.\"))\n",
    "\n",
    "print(paste(scores.sum[scores.sum$star_rating == 4 & scores.sum$lea_name == 'Baltimore County', ]$n + \n",
    "      scores.sum[scores.sum$star_rating == 5 & scores.sum$lea_name == 'Baltimore County', ]$n, \n",
    "      \"Baltimore County's\", sum(scores.sum[scores.sum$lea_name == 'Baltimore County', ]$n),\n",
    "      \"schools received four- or five-star ratings.\"))"
   ]
  },
  {
   "cell_type": "markdown",
   "metadata": {},
   "source": [
    "### Finding: In Harford County, 70 percent of schools earned either a four- or five-star rating."
   ]
  },
  {
   "cell_type": "markdown",
   "metadata": {},
   "source": [
    "Use `filter()` on the `scores.sum` dataframe to view the number and percentage of schools in Harford County rated four or five stars."
   ]
  },
  {
   "cell_type": "code",
   "execution_count": 11,
   "metadata": {},
   "outputs": [
    {
     "data": {
      "text/html": [
       "<table>\n",
       "<caption>A grouped_df: 5 × 4</caption>\n",
       "<thead>\n",
       "\t<tr><th scope=col>lea_name</th><th scope=col>star_rating</th><th scope=col>n</th><th scope=col>percent</th></tr>\n",
       "\t<tr><th scope=col>&lt;chr&gt;</th><th scope=col>&lt;dbl&gt;</th><th scope=col>&lt;int&gt;</th><th scope=col>&lt;dbl&gt;</th></tr>\n",
       "</thead>\n",
       "<tbody>\n",
       "\t<tr><td>Harford</td><td>1</td><td> 1</td><td> 1.886792</td></tr>\n",
       "\t<tr><td>Harford</td><td>2</td><td> 1</td><td> 1.886792</td></tr>\n",
       "\t<tr><td>Harford</td><td>3</td><td>14</td><td>26.415094</td></tr>\n",
       "\t<tr><td>Harford</td><td>4</td><td>27</td><td>50.943396</td></tr>\n",
       "\t<tr><td>Harford</td><td>5</td><td>10</td><td>18.867925</td></tr>\n",
       "</tbody>\n",
       "</table>\n"
      ],
      "text/latex": [
       "A grouped\\_df: 5 × 4\n",
       "\\begin{tabular}{llll}\n",
       " lea\\_name & star\\_rating & n & percent\\\\\n",
       " <chr> & <dbl> & <int> & <dbl>\\\\\n",
       "\\hline\n",
       "\t Harford & 1 &  1 &  1.886792\\\\\n",
       "\t Harford & 2 &  1 &  1.886792\\\\\n",
       "\t Harford & 3 & 14 & 26.415094\\\\\n",
       "\t Harford & 4 & 27 & 50.943396\\\\\n",
       "\t Harford & 5 & 10 & 18.867925\\\\\n",
       "\\end{tabular}\n"
      ],
      "text/markdown": [
       "\n",
       "A grouped_df: 5 × 4\n",
       "\n",
       "| lea_name &lt;chr&gt; | star_rating &lt;dbl&gt; | n &lt;int&gt; | percent &lt;dbl&gt; |\n",
       "|---|---|---|---|\n",
       "| Harford | 1 |  1 |  1.886792 |\n",
       "| Harford | 2 |  1 |  1.886792 |\n",
       "| Harford | 3 | 14 | 26.415094 |\n",
       "| Harford | 4 | 27 | 50.943396 |\n",
       "| Harford | 5 | 10 | 18.867925 |\n",
       "\n"
      ],
      "text/plain": [
       "  lea_name star_rating n  percent  \n",
       "1 Harford  1            1  1.886792\n",
       "2 Harford  2            1  1.886792\n",
       "3 Harford  3           14 26.415094\n",
       "4 Harford  4           27 50.943396\n",
       "5 Harford  5           10 18.867925"
      ]
     },
     "metadata": {},
     "output_type": "display_data"
    }
   ],
   "source": [
    "scores.sum %>% filter(lea_name == 'Harford')"
   ]
  },
  {
   "cell_type": "markdown",
   "metadata": {},
   "source": [
    "Print the percentage of Harford County schools receiving one- or two-star ratings."
   ]
  },
  {
   "cell_type": "code",
   "execution_count": 12,
   "metadata": {},
   "outputs": [
    {
     "name": "stdout",
     "output_type": "stream",
     "text": [
      "[1] \"70 percent of Harford County schools received four- or five-star ratings.\"\n"
     ]
    }
   ],
   "source": [
    "print(paste(round(scores.sum[scores.sum$star_rating == 4 & scores.sum$lea_name == 'Harford', ]$percent + \n",
    "      scores.sum[scores.sum$star_rating == 5 & scores.sum$lea_name == 'Harford', ]$percent), \n",
    "      \"percent of Harford County schools received four- or five-star ratings.\"))"
   ]
  },
  {
   "cell_type": "markdown",
   "metadata": {},
   "source": [
    "Fourteen school systems in the state had no one- or two-star schools."
   ]
  },
  {
   "cell_type": "markdown",
   "metadata": {},
   "source": [
    "Use `group_by()` and `mutate()` to create a column, `lowest_rating`, which gives lowest rating received by a school in the LEA (local education agency). Use `filter()` to include school with a lowest rating of three stars or above — meaning they had no one- or two-star schools. Use `select()`, `distinct()`, `ungroup()` and `mutate()` to print out and tally LEAs aka school systems with no one- or two-star schools."
   ]
  },
  {
   "cell_type": "code",
   "execution_count": 13,
   "metadata": {},
   "outputs": [
    {
     "data": {
      "text/html": [
       "<table>\n",
       "<caption>A tibble: 14 × 2</caption>\n",
       "<thead>\n",
       "\t<tr><th scope=col>lea_name</th><th scope=col>row_number</th></tr>\n",
       "\t<tr><th scope=col>&lt;chr&gt;</th><th scope=col>&lt;int&gt;</th></tr>\n",
       "</thead>\n",
       "<tbody>\n",
       "\t<tr><td>Allegany    </td><td> 1</td></tr>\n",
       "\t<tr><td>Calvert     </td><td> 2</td></tr>\n",
       "\t<tr><td>Caroline    </td><td> 3</td></tr>\n",
       "\t<tr><td>Cecil       </td><td> 4</td></tr>\n",
       "\t<tr><td>Charles     </td><td> 5</td></tr>\n",
       "\t<tr><td>Frederick   </td><td> 6</td></tr>\n",
       "\t<tr><td>Garrett     </td><td> 7</td></tr>\n",
       "\t<tr><td>Kent        </td><td> 8</td></tr>\n",
       "\t<tr><td>Queen Anne's</td><td> 9</td></tr>\n",
       "\t<tr><td>Saint Mary's</td><td>10</td></tr>\n",
       "\t<tr><td>Somerset    </td><td>11</td></tr>\n",
       "\t<tr><td>Talbot      </td><td>12</td></tr>\n",
       "\t<tr><td>Washington  </td><td>13</td></tr>\n",
       "\t<tr><td>Worcester   </td><td>14</td></tr>\n",
       "</tbody>\n",
       "</table>\n"
      ],
      "text/latex": [
       "A tibble: 14 × 2\n",
       "\\begin{tabular}{ll}\n",
       " lea\\_name & row\\_number\\\\\n",
       " <chr> & <int>\\\\\n",
       "\\hline\n",
       "\t Allegany     &  1\\\\\n",
       "\t Calvert      &  2\\\\\n",
       "\t Caroline     &  3\\\\\n",
       "\t Cecil        &  4\\\\\n",
       "\t Charles      &  5\\\\\n",
       "\t Frederick    &  6\\\\\n",
       "\t Garrett      &  7\\\\\n",
       "\t Kent         &  8\\\\\n",
       "\t Queen Anne's &  9\\\\\n",
       "\t Saint Mary's & 10\\\\\n",
       "\t Somerset     & 11\\\\\n",
       "\t Talbot       & 12\\\\\n",
       "\t Washington   & 13\\\\\n",
       "\t Worcester    & 14\\\\\n",
       "\\end{tabular}\n"
      ],
      "text/markdown": [
       "\n",
       "A tibble: 14 × 2\n",
       "\n",
       "| lea_name &lt;chr&gt; | row_number &lt;int&gt; |\n",
       "|---|---|\n",
       "| Allegany     |  1 |\n",
       "| Calvert      |  2 |\n",
       "| Caroline     |  3 |\n",
       "| Cecil        |  4 |\n",
       "| Charles      |  5 |\n",
       "| Frederick    |  6 |\n",
       "| Garrett      |  7 |\n",
       "| Kent         |  8 |\n",
       "| Queen Anne's |  9 |\n",
       "| Saint Mary's | 10 |\n",
       "| Somerset     | 11 |\n",
       "| Talbot       | 12 |\n",
       "| Washington   | 13 |\n",
       "| Worcester    | 14 |\n",
       "\n"
      ],
      "text/plain": [
       "   lea_name     row_number\n",
       "1  Allegany      1        \n",
       "2  Calvert       2        \n",
       "3  Caroline      3        \n",
       "4  Cecil         4        \n",
       "5  Charles       5        \n",
       "6  Frederick     6        \n",
       "7  Garrett       7        \n",
       "8  Kent          8        \n",
       "9  Queen Anne's  9        \n",
       "10 Saint Mary's 10        \n",
       "11 Somerset     11        \n",
       "12 Talbot       12        \n",
       "13 Washington   13        \n",
       "14 Worcester    14        "
      ]
     },
     "metadata": {},
     "output_type": "display_data"
    }
   ],
   "source": [
    "scores.sum %>% group_by(lea_name) %>% \n",
    "               mutate(lowest_rating = min(star_rating)) %>% \n",
    "               filter(lowest_rating >= 3) %>% \n",
    "               select(lea_name) %>% \n",
    "               distinct() %>% \n",
    "               ungroup() %>% mutate(row_number = row_number())"
   ]
  },
  {
   "cell_type": "markdown",
   "metadata": {},
   "source": [
    "## Distribution of star ratings"
   ]
  },
  {
   "cell_type": "markdown",
   "metadata": {},
   "source": [
    "Ratings are assigned to schools based on the number of points a school receives as a percentage of the total possible points it could earn:\n",
    "\n",
    "- Less than 30% = one star\n",
    "- 30% or more and less than 45% = two stars\n",
    "- 45% or more and less than 60% = three stars\n",
    "- 60% or more and less than 75% = four stars\n",
    "- 75% or more = five stars\n",
    "\n",
    "For more information, read the [story](https://www.baltimoresun.com/news/maryland/education/k-12/bs-md-star-rating-release-20181203-story.html)."
   ]
  },
  {
   "cell_type": "markdown",
   "metadata": {},
   "source": [
    "Below are a histogram of star ratings, showing the schools that fell into each \"earned points percent\" bucket."
   ]
  },
  {
   "cell_type": "markdown",
   "metadata": {},
   "source": [
    "### Statewide"
   ]
  },
  {
   "cell_type": "code",
   "execution_count": 14,
   "metadata": {},
   "outputs": [
    {
     "data": {
      "image/png": "[encoded data removed]",
      "text/plain": [
       "plot without title"
      ]
     },
     "metadata": {},
     "output_type": "display_data"
    }
   ],
   "source": [
    "scores.grouped.points.md <- scores %>% group_by(total_earned_points_percent) %>% \n",
    "                             summarise(n = n()) %>% \n",
    "                             mutate(perc = n/sum(n) * 100) %>% mutate(lea_name = 'Statewide')\n",
    "\n",
    "options(repr.plot.width = 6, repr.plot.height = 4)\n",
    "\n",
    "ggplot(scores.grouped.points.md, aes(x = total_earned_points_percent, \n",
    "                           y = perc)) +\n",
    "  geom_bar(stat = 'identity', fill = '#2484C6') +\n",
    "  scale_y_continuous(breaks = seq(0, 10, 2))+\n",
    "  geom_vline(xintercept = 29, size = .3)+\n",
    "  geom_vline(xintercept = 44.9, size = .3)+\n",
    "  geom_vline(xintercept = 59.9, size = .3)+\n",
    "  geom_vline(xintercept = 74.9, size = .3)+\n",
    "  geom_bar(stat = 'identity', fill = '#2484C6')+\n",
    "  labs(x = '', y ='') +\n",
    "  theme(panel.grid.major.x = element_blank(),\n",
    "        panel.grid.minor.y = element_blank(),\n",
    "        panel.grid.minor.x = element_blank(),\n",
    "        panel.grid.major.y = element_line(color = 'lightgrey', size = .1),\n",
    "        panel.background = element_blank(),\n",
    "        strip.background = element_blank(),\n",
    "        panel.border = element_rect(fill = NA, colour = \"grey\")) +\n",
    "  facet_wrap(~lea_name) + scale_x_continuous(breaks = seq(0, 100, 10)) + expand_limits(x = 0)"
   ]
  },
  {
   "cell_type": "markdown",
   "metadata": {},
   "source": [
    "### Baltimore region, by county"
   ]
  },
  {
   "cell_type": "code",
   "execution_count": 15,
   "metadata": {},
   "outputs": [
    {
     "data": {
      "image/png": "[encoded data removed]",
      "text/plain": [
       "plot without title"
      ]
     },
     "metadata": {},
     "output_type": "display_data"
    }
   ],
   "source": [
    "scores.grouped.points <- scores %>% group_by(lea_name, total_earned_points_percent) %>% \n",
    "                             summarise(n = n()) %>% \n",
    "                             mutate(perc = n/sum(n) * 100)\n",
    "\n",
    "scores.grouped.filter <- scores.grouped.points %>% filter(lea_name == 'Baltimore City' |\n",
    "                                           lea_name == 'Baltimore County' |\n",
    "                                           lea_name == 'Anne Arundel' |\n",
    "                                           lea_name == 'Carroll' |\n",
    "                                           lea_name == 'Harford' |\n",
    "                                           lea_name == 'Howard')\n",
    "\n",
    "options(repr.plot.width = 6, repr.plot.height = 3)\n",
    "\n",
    "ggplot(scores.grouped.filter, aes(x = total_earned_points_percent, \n",
    "                           y = perc)) +\n",
    "  geom_bar(stat = 'identity', fill = '#2484C6') +\n",
    "  scale_y_continuous(breaks = seq(0, 10, 2))+\n",
    "  geom_vline(xintercept = 29, size = .3)+\n",
    "  geom_vline(xintercept = 44.9, size = .3)+\n",
    "  geom_vline(xintercept = 59.9, size = .3)+\n",
    "  geom_vline(xintercept = 74.9, size = .3)+\n",
    "  geom_bar(stat = 'identity', fill = '#2484C6')+\n",
    "  labs(x = '', y ='') +\n",
    "  theme(panel.grid.major.x = element_blank(),\n",
    "        panel.grid.minor.y = element_blank(),\n",
    "        panel.grid.minor.x = element_blank(),\n",
    "        panel.grid.major.y = element_line(color = 'lightgrey', size = .1),\n",
    "        panel.background = element_blank(),\n",
    "        strip.background = element_blank(),\n",
    "        panel.border = element_rect(fill = NA, colour = \"grey\")) +\n",
    "  facet_wrap(~lea_name) + scale_x_continuous(breaks = seq(0, 100, 10)) "
   ]
  }
 ],
 "metadata": {
  "kernelspec": {
   "display_name": "R",
   "language": "R",
   "name": "ir"
  },
  "language_info": {
   "codemirror_mode": "r",
   "file_extension": ".r",
   "mimetype": "text/x-r-source",
   "name": "R",
   "pygments_lexer": "r",
   "version": "3.6.3"
  },
  "toc": {
   "base_numbering": 1,
   "nav_menu": {},
   "number_sections": true,
   "sideBar": true,
   "skip_h1_title": false,
   "title_cell": "Table of Contents",
   "title_sidebar": "Contents",
   "toc_cell": false,
   "toc_position": {},
   "toc_section_display": true,
   "toc_window_display": false
  }
 },
 "nbformat": 4,
 "nbformat_minor": 2
}
