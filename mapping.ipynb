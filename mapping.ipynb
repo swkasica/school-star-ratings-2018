{
 "cells": [
  {
   "cell_type": "markdown",
   "metadata": {},
   "source": [
    "# Maryland schools star ratings map"
   ]
  },
  {
   "cell_type": "markdown",
   "metadata": {},
   "source": [
    "By [Christine Zhang](mailto:czhang@baltsun.com)"
   ]
  },
  {
   "cell_type": "markdown",
   "metadata": {},
   "source": [
    "This notebook appends latitude and longitude coordinates for schools in Maryland for mapping purposes.\n",
    "\n",
    "The map can be found embedded in Baltimore Sun stories [here](https://www.baltimoresun.com/news/maryland/education/k-12/bs-md-star-rating-release-20181203-story.html) and [here](https://www.baltimoresun.com/news/maryland/education/k-12/bs-md-star-ratings-key-takeaways-20181204-story.html).\n",
    "\n",
    "Geographical information for schools comes from National Center for Education Statistics 2016-17 [Education Demographic and Geographic Estimates (EDGE)](https://nces.ed.gov/programs/edge/Geographic/SchoolLocations)."
   ]
  },
  {
   "cell_type": "markdown",
   "metadata": {},
   "source": [
    "## How we did it"
   ]
  },
  {
   "cell_type": "markdown",
   "metadata": {},
   "source": [
    "### Import R data analysis libraries and read in star ratings data"
   ]
  },
  {
   "cell_type": "code",
   "execution_count": 1,
   "metadata": {},
   "outputs": [],
   "source": [
    "suppressMessages(library('tidyverse'))\n",
    "suppressMessages(library('stringr'))\n",
    "suppressMessages(library('janitor'))"
   ]
  },
  {
   "cell_type": "markdown",
   "metadata": {},
   "source": [
    "Read in the scores data."
   ]
  },
  {
   "cell_type": "code",
   "execution_count": 2,
   "metadata": {},
   "outputs": [],
   "source": [
    "scores <- suppressMessages(read_csv('input/accountability_schools_download_file.csv', na = 'na') %>% clean_names())"
   ]
  },
  {
   "cell_type": "markdown",
   "metadata": {},
   "source": [
    "Schools in the star ratings data are uniquely identified by a combination of the `lea_number` and `school_number`."
   ]
  },
  {
   "cell_type": "code",
   "execution_count": 3,
   "metadata": {},
   "outputs": [
    {
     "name": "stdout",
     "output_type": "stream",
     "text": [
      "Observations: 1,319\n",
      "Variables: 10\n",
      "$ number_academic_year        <int> 2018, 2018, 2018, 2018, 2018, 2018, 201...\n",
      "$ lea_number                  <int> 1, 1, 1, 1, 1, 1, 1, 1, 1, 1, 1, 1, 1, ...\n",
      "$ lea_name                    <chr> \"Allegany\", \"Allegany\", \"Allegany\", \"Al...\n",
      "$ school_number               <int> 301, 401, 402, 405, 406, 502, 504, 601,...\n",
      "$ school_name                 <chr> \"Flintstone Elementary\", \"South Penn El...\n",
      "$ star_rating                 <int> 4, 4, 4, 3, 3, 5, 3, 4, 5, 4, 5, 4, 4, ...\n",
      "$ total_earned_points_percent <int> 64, 65, 69, 59, 56, 79, 58, 60, 78, 64,...\n",
      "$ percentile_rank_elementary  <int> 52, 52, 67, NA, NA, 91, NA, NA, 88, NA,...\n",
      "$ percentile_rank_middle      <int> NA, NA, NA, NA, 49, NA, 55, NA, NA, NA,...\n",
      "$ percentile_rank_high        <int> NA, NA, NA, 45, NA, NA, NA, 48, NA, 57,...\n"
     ]
    }
   ],
   "source": [
    "glimpse(scores)"
   ]
  },
  {
   "cell_type": "markdown",
   "metadata": {},
   "source": [
    "### Read in the EDGE data, which provides coordinates for schools nationwide"
   ]
  },
  {
   "cell_type": "code",
   "execution_count": 4,
   "metadata": {},
   "outputs": [],
   "source": [
    "edge <- read.csv('input/EDGE_GEOCODE_PUBLICSCH_1617.csv', stringsAsFactors = F, \n",
    "                 colClasses = c('NCESSCH' = 'character')) %>% clean_names()"
   ]
  },
  {
   "cell_type": "markdown",
   "metadata": {},
   "source": [
    "Schools in the EDGE data are uniquely idenfified by the 12-digit `ncessch` number (it's irrelevant for MD schools, but we specify `colClasses = c('NCESSCH' = 'character')` so that `R` will not drop the leading zero."
   ]
  },
  {
   "cell_type": "code",
   "execution_count": 5,
   "metadata": {},
   "outputs": [
    {
     "name": "stdout",
     "output_type": "stream",
     "text": [
      "Observations: 102,173\n",
      "Variables: 24\n",
      "$ ncessch  <chr> \"010000200277\", \"010000201667\", \"010000201670\", \"010000201...\n",
      "$ name     <chr> \"Sequoyah Sch - Chalkville Campus\", \"Camps\", \"Det Ctr\", \"W...\n",
      "$ opstfips <int> 1, 1, 1, 1, 1, 1, 1, 1, 1, 1, 1, 1, 1, 1, 1, 1, 1, 1, 1, 1...\n",
      "$ street   <chr> \"1000 Industrial School Road\", \"1601 County Rd. 57\", \"2109...\n",
      "$ city     <chr> \"Birmingham\", \"Prattville\", \"Thomasville\", \"Mount Meigs\", ...\n",
      "$ state    <chr> \"AL\", \"AL\", \"AL\", \"AL\", \"AL\", \"AL\", \"AL\", \"AL\", \"AL\", \"AL\"...\n",
      "$ zip      <int> 35220, 36067, 36784, 36057, 35206, 36057, 35950, 35950, 35...\n",
      "$ stfip    <chr> \"01\", \"01\", \"01\", \"01\", \"01\", \"01\", \"01\", \"01\", \"01\", \"01\"...\n",
      "$ cnty     <chr> \"01073\", \"01001\", \"01025\", \"01101\", \"01073\", \"01101\", \"010...\n",
      "$ nmcnty   <chr> \"Jefferson County\", \"Autauga County\", \"Clarke County\", \"Mo...\n",
      "$ locale   <chr> \"21\", \"41\", \"41\", \"41\", \"12\", \"41\", \"32\", \"32\", \"32\", \"32\"...\n",
      "$ lat      <dbl> 33.67366, 32.51917, 31.93779, 32.37571, 33.58671, 32.37571...\n",
      "$ lon      <dbl> -86.62875, -86.53275, -87.75016, -86.08321, -86.71058, -86...\n",
      "$ cbsa     <chr> \"13820\", \"33860\", \"N\", \"33860\", \"13820\", \"33860\", \"10700\",...\n",
      "$ nmcbsa   <chr> \"Birmingham-Hoover, AL\", \"Montgomery, AL\", \"N\", \"Montgomer...\n",
      "$ cbsatype <int> 1, 1, 0, 1, 1, 1, 2, 2, 2, 2, 2, 2, 2, 2, 2, 2, 2, 2, 2, 2...\n",
      "$ csa      <chr> \"142\", \"N\", \"N\", \"N\", \"142\", \"N\", \"290\", \"290\", \"290\", \"29...\n",
      "$ nmcsa    <chr> \"Birmingham-Hoover-Talladega, AL\", \"N\", \"N\", \"N\", \"Birming...\n",
      "$ necta    <chr> \"N\", \"N\", \"N\", \"N\", \"N\", \"N\", \"N\", \"N\", \"N\", \"N\", \"N\", \"N\"...\n",
      "$ nmnecta  <chr> \"N\", \"N\", \"N\", \"N\", \"N\", \"N\", \"N\", \"N\", \"N\", \"N\", \"N\", \"N\"...\n",
      "$ cd       <chr> \"0106\", \"0102\", \"0107\", \"0103\", \"0107\", \"0103\", \"0104\", \"0...\n",
      "$ sldl     <chr> \"01044\", \"01042\", \"01068\", \"01075\", \"01058\", \"01075\", \"010...\n",
      "$ sldu     <chr> \"01020\", \"01030\", \"01024\", \"01025\", \"01020\", \"01025\", \"010...\n",
      "$ survyear <int> 2016, 2016, 2016, 2016, 2016, 2016, 2016, 2016, 2016, 2016...\n"
     ]
    }
   ],
   "source": [
    "glimpse(edge)"
   ]
  },
  {
   "cell_type": "markdown",
   "metadata": {},
   "source": [
    "### Read in the school directory data"
   ]
  },
  {
   "cell_type": "markdown",
   "metadata": {},
   "source": [
    "We can't directly match up schools in the star ratings data with schools in the EDGE data because they are have different identifiers. Here we read in the Maryland school directory from the Maryland State Department of Education [website](http://reportcard.msde.maryland.gov/). This file provides the a way to link the two datasets."
   ]
  },
  {
   "cell_type": "code",
   "execution_count": 6,
   "metadata": {},
   "outputs": [],
   "source": [
    "directory <- suppressMessages(read.csv('input/School_Directory_2018.csv', \n",
    "                                       colClasses = c('LEA.Number' = 'character', \n",
    "                                                      'School.Number' = 'character',\n",
    "                                                      'NCES.Number' = 'character')) %>% clean_names())"
   ]
  },
  {
   "cell_type": "markdown",
   "metadata": {},
   "source": [
    "Schools are identified by `lea_number` and `school_number`."
   ]
  },
  {
   "cell_type": "code",
   "execution_count": 7,
   "metadata": {},
   "outputs": [
    {
     "name": "stdout",
     "output_type": "stream",
     "text": [
      "Observations: 1,429\n",
      "Variables: 13\n",
      "$ academic_year <int> 2018, 2018, 2018, 2018, 2018, 2018, 2018, 2018, 2018,...\n",
      "$ lea_number    <chr> \"01\", \"01\", \"01\", \"01\", \"01\", \"01\", \"01\", \"01\", \"01\",...\n",
      "$ lea_name      <fct> Allegany, Allegany, Allegany, Allegany, Allegany, All...\n",
      "$ school_number <chr> \"0301\", \"0401\", \"0402\", \"0405\", \"0406\", \"0502\", \"0504...\n",
      "$ school_name   <fct> Flintstone Elementary, South Penn Elementary, John Hu...\n",
      "$ school_type   <fct> E, E, E, H, M, E, M, H, , E, H, E, E, E, M, E, E, M, ...\n",
      "$ address       <fct> 22000 National Pike Ne, 500 E 2nd St, 120 Mary St, 50...\n",
      "$ city          <fct> Flintstone, Cumberland, Cumberland, Cumberland, Cumbe...\n",
      "$ state         <fct> MD, MD, MD, MD, MD, MD, MD, MD, MD, MD, MD, MD, MD, M...\n",
      "$ zip           <int> 21530, 215024249, 215027341, 215023856, 215023855, 21...\n",
      "$ phone         <dbl> 3014782434, 3017771755, 3017248842, 3017772570, 30177...\n",
      "$ nces_number   <chr> \"240003000014\", \"240003001359\", \"240003000019\", \"2400...\n",
      "$ create_date   <int> 20180820, 20180820, 20180820, 20180820, 20180820, 201...\n"
     ]
    }
   ],
   "source": [
    "glimpse(directory)"
   ]
  },
  {
   "cell_type": "markdown",
   "metadata": {},
   "source": [
    "### Merge `scores`  with `directory` to get the NCES id for each school"
   ]
  },
  {
   "cell_type": "markdown",
   "metadata": {},
   "source": [
    "We can merge the `scores` and the `directory` dataframes on the `lea_number` and `school_number` columns. However, we first need to add a leading zero to `lea_number` and `school_number` in the `scores` dataframe. We can do this using `str_pad()`."
   ]
  },
  {
   "cell_type": "code",
   "execution_count": 8,
   "metadata": {},
   "outputs": [],
   "source": [
    "scores$school_number <- str_pad(scores$school_number, 4, pad = '0')\n",
    "scores$lea_number <- str_pad(scores$lea_number, 2, pad = '0')"
   ]
  },
  {
   "cell_type": "markdown",
   "metadata": {},
   "source": [
    "We will call the merged dataframe `scores.nces`."
   ]
  },
  {
   "cell_type": "code",
   "execution_count": 9,
   "metadata": {},
   "outputs": [],
   "source": [
    "scores.nces <- merge(scores, directory %>% select(-lea_name, -school_name), \n",
    "                     by = c('lea_number', 'school_number'), all.x = T)"
   ]
  },
  {
   "cell_type": "markdown",
   "metadata": {},
   "source": [
    "### Merge `scores.nces` with `edge` to get the geographical coordinates for each school"
   ]
  },
  {
   "cell_type": "markdown",
   "metadata": {},
   "source": [
    "We can merge the `scores.nces` and the `edge` dataframes on the `nces_number` (from  `scores.nces`) and `ncessch` (from `edge`). This is the 12-digit NCES id for each school. We will call the merged dataframe `scores.geo`."
   ]
  },
  {
   "cell_type": "code",
   "execution_count": 10,
   "metadata": {},
   "outputs": [],
   "source": [
    "scores.geo <- merge(scores.nces, edge, \n",
    "                    by.x = 'nces_number', \n",
    "                    by.y = 'ncessch', all.x = T, \n",
    "                    suffixes = c('_msde', '_nces'))"
   ]
  },
  {
   "cell_type": "markdown",
   "metadata": {},
   "source": [
    "Note: there are three schools that do no have coordinates provided by EDGE."
   ]
  },
  {
   "cell_type": "code",
   "execution_count": 11,
   "metadata": {},
   "outputs": [
    {
     "data": {
      "text/html": [
       "<table>\n",
       "<thead><tr><th scope=col>nces_number</th><th scope=col>lea_number</th><th scope=col>school_number</th><th scope=col>number_academic_year</th><th scope=col>lea_name</th><th scope=col>school_name</th><th scope=col>star_rating</th><th scope=col>total_earned_points_percent</th><th scope=col>percentile_rank_elementary</th><th scope=col>percentile_rank_middle</th><th scope=col>⋯</th><th scope=col>nmcbsa</th><th scope=col>cbsatype</th><th scope=col>csa</th><th scope=col>nmcsa</th><th scope=col>necta</th><th scope=col>nmnecta</th><th scope=col>cd</th><th scope=col>sldl</th><th scope=col>sldu</th><th scope=col>survyear</th></tr></thead>\n",
       "<tbody>\n",
       "\t<tr><td>240006001744                </td><td>02                          </td><td>6123                        </td><td>2018                        </td><td>Anne Arundel                </td><td>Monarch Academy Annapolis ES</td><td>2                           </td><td>31                          </td><td> 2                          </td><td>NA                          </td><td>⋯                           </td><td>NA                          </td><td>NA                          </td><td>NA                          </td><td>NA                          </td><td>NA                          </td><td>NA                          </td><td>NA                          </td><td>NA                          </td><td>NA                          </td><td>NA                          </td></tr>\n",
       "\t<tr><td>240048001741                </td><td>15                          </td><td>0835                        </td><td>2018                        </td><td>Montgomery                  </td><td>Silver Creek Middle         </td><td>4                           </td><td>70                          </td><td>NA                          </td><td>82                          </td><td>⋯                           </td><td>NA                          </td><td>NA                          </td><td>NA                          </td><td>NA                          </td><td>NA                          </td><td>NA                          </td><td>NA                          </td><td>NA                          </td><td>NA                          </td><td>NA                          </td></tr>\n",
       "\t<tr><td>240057001743                </td><td>19                          </td><td>0107                        </td><td>2018                        </td><td>Somerset                    </td><td>Greenwood Elementary School </td><td>3                           </td><td>51                          </td><td>19                          </td><td>NA                          </td><td>⋯                           </td><td>NA                          </td><td>NA                          </td><td>NA                          </td><td>NA                          </td><td>NA                          </td><td>NA                          </td><td>NA                          </td><td>NA                          </td><td>NA                          </td><td>NA                          </td></tr>\n",
       "</tbody>\n",
       "</table>\n"
      ],
      "text/latex": [
       "\\begin{tabular}{r|llllllllllllllllllllllllllllllllllllllllll}\n",
       " nces\\_number & lea\\_number & school\\_number & number\\_academic\\_year & lea\\_name & school\\_name & star\\_rating & total\\_earned\\_points\\_percent & percentile\\_rank\\_elementary & percentile\\_rank\\_middle & ⋯ & nmcbsa & cbsatype & csa & nmcsa & necta & nmnecta & cd & sldl & sldu & survyear\\\\\n",
       "\\hline\n",
       "\t 240006001744                 & 02                           & 6123                         & 2018                         & Anne Arundel                 & Monarch Academy Annapolis ES & 2                            & 31                           &  2                           & NA                           & ⋯                            & NA                           & NA                           & NA                           & NA                           & NA                           & NA                           & NA                           & NA                           & NA                           & NA                          \\\\\n",
       "\t 240048001741                 & 15                           & 0835                         & 2018                         & Montgomery                   & Silver Creek Middle          & 4                            & 70                           & NA                           & 82                           & ⋯                            & NA                           & NA                           & NA                           & NA                           & NA                           & NA                           & NA                           & NA                           & NA                           & NA                          \\\\\n",
       "\t 240057001743                 & 19                           & 0107                         & 2018                         & Somerset                     & Greenwood Elementary School  & 3                            & 51                           & 19                           & NA                           & ⋯                            & NA                           & NA                           & NA                           & NA                           & NA                           & NA                           & NA                           & NA                           & NA                           & NA                          \\\\\n",
       "\\end{tabular}\n"
      ],
      "text/markdown": [
       "\n",
       "nces_number | lea_number | school_number | number_academic_year | lea_name | school_name | star_rating | total_earned_points_percent | percentile_rank_elementary | percentile_rank_middle | ⋯ | nmcbsa | cbsatype | csa | nmcsa | necta | nmnecta | cd | sldl | sldu | survyear | \n",
       "|---|---|---|\n",
       "| 240006001744                 | 02                           | 6123                         | 2018                         | Anne Arundel                 | Monarch Academy Annapolis ES | 2                            | 31                           |  2                           | NA                           | ⋯                            | NA                           | NA                           | NA                           | NA                           | NA                           | NA                           | NA                           | NA                           | NA                           | NA                           | \n",
       "| 240048001741                 | 15                           | 0835                         | 2018                         | Montgomery                   | Silver Creek Middle          | 4                            | 70                           | NA                           | 82                           | ⋯                            | NA                           | NA                           | NA                           | NA                           | NA                           | NA                           | NA                           | NA                           | NA                           | NA                           | \n",
       "| 240057001743                 | 19                           | 0107                         | 2018                         | Somerset                     | Greenwood Elementary School  | 3                            | 51                           | 19                           | NA                           | ⋯                            | NA                           | NA                           | NA                           | NA                           | NA                           | NA                           | NA                           | NA                           | NA                           | NA                           | \n",
       "\n",
       "\n"
      ],
      "text/plain": [
       "  nces_number  lea_number school_number number_academic_year lea_name    \n",
       "1 240006001744 02         6123          2018                 Anne Arundel\n",
       "2 240048001741 15         0835          2018                 Montgomery  \n",
       "3 240057001743 19         0107          2018                 Somerset    \n",
       "  school_name                  star_rating total_earned_points_percent\n",
       "1 Monarch Academy Annapolis ES 2           31                         \n",
       "2 Silver Creek Middle          4           70                         \n",
       "3 Greenwood Elementary School  3           51                         \n",
       "  percentile_rank_elementary percentile_rank_middle ⋯ nmcbsa cbsatype csa nmcsa\n",
       "1  2                         NA                     ⋯ NA     NA       NA  NA   \n",
       "2 NA                         82                     ⋯ NA     NA       NA  NA   \n",
       "3 19                         NA                     ⋯ NA     NA       NA  NA   \n",
       "  necta nmnecta cd sldl sldu survyear\n",
       "1 NA    NA      NA NA   NA   NA      \n",
       "2 NA    NA      NA NA   NA   NA      \n",
       "3 NA    NA      NA NA   NA   NA      "
      ]
     },
     "metadata": {},
     "output_type": "display_data"
    }
   ],
   "source": [
    "scores.geo %>% filter(is.na(lat))"
   ]
  },
  {
   "cell_type": "markdown",
   "metadata": {},
   "source": [
    "We can add in the coordinates for these schools manually."
   ]
  },
  {
   "cell_type": "code",
   "execution_count": 12,
   "metadata": {},
   "outputs": [],
   "source": [
    "added <- suppressMessages(read_csv('input/addresses_add.csv'))"
   ]
  },
  {
   "cell_type": "code",
   "execution_count": 18,
   "metadata": {},
   "outputs": [
    {
     "data": {
      "text/html": [
       "<table>\n",
       "<thead><tr><th scope=col>lea_number</th><th scope=col>school_number</th><th scope=col>school_name</th><th scope=col>lat</th><th scope=col>lon</th><th scope=col>address</th><th scope=col>city_msde</th></tr></thead>\n",
       "<tbody>\n",
       "\t<tr><td>19                          </td><td> 107                        </td><td>Greenwood Elementary School </td><td>38.19433                    </td><td>-75.69717                   </td><td>11412 Dryden Rd             </td><td>Princess Anne               </td></tr>\n",
       "\t<tr><td>15                          </td><td> 835                        </td><td>Silver Creek Middle         </td><td>39.01607                    </td><td>-77.07380                   </td><td>3701 Saul Rd                </td><td>Kensington                  </td></tr>\n",
       "\t<tr><td> 2                          </td><td>6123                        </td><td>Monarch Academy Annapolis ES</td><td>38.98377                    </td><td>-76.53052                   </td><td>2000 Capital Dr             </td><td>Annapolis                   </td></tr>\n",
       "</tbody>\n",
       "</table>\n"
      ],
      "text/latex": [
       "\\begin{tabular}{r|lllllll}\n",
       " lea\\_number & school\\_number & school\\_name & lat & lon & address & city\\_msde\\\\\n",
       "\\hline\n",
       "\t 19                           &  107                         & Greenwood Elementary School  & 38.19433                     & -75.69717                    & 11412 Dryden Rd              & Princess Anne               \\\\\n",
       "\t 15                           &  835                         & Silver Creek Middle          & 39.01607                     & -77.07380                    & 3701 Saul Rd                 & Kensington                  \\\\\n",
       "\t  2                           & 6123                         & Monarch Academy Annapolis ES & 38.98377                     & -76.53052                    & 2000 Capital Dr              & Annapolis                   \\\\\n",
       "\\end{tabular}\n"
      ],
      "text/markdown": [
       "\n",
       "lea_number | school_number | school_name | lat | lon | address | city_msde | \n",
       "|---|---|---|\n",
       "| 19                           |  107                         | Greenwood Elementary School  | 38.19433                     | -75.69717                    | 11412 Dryden Rd              | Princess Anne                | \n",
       "| 15                           |  835                         | Silver Creek Middle          | 39.01607                     | -77.07380                    | 3701 Saul Rd                 | Kensington                   | \n",
       "|  2                           | 6123                         | Monarch Academy Annapolis ES | 38.98377                     | -76.53052                    | 2000 Capital Dr              | Annapolis                    | \n",
       "\n",
       "\n"
      ],
      "text/plain": [
       "  lea_number school_number school_name                  lat      lon      \n",
       "1 19          107          Greenwood Elementary School  38.19433 -75.69717\n",
       "2 15          835          Silver Creek Middle          39.01607 -77.07380\n",
       "3  2         6123          Monarch Academy Annapolis ES 38.98377 -76.53052\n",
       "  address         city_msde    \n",
       "1 11412 Dryden Rd Princess Anne\n",
       "2 3701 Saul Rd    Kensington   \n",
       "3 2000 Capital Dr Annapolis    "
      ]
     },
     "metadata": {},
     "output_type": "display_data"
    }
   ],
   "source": [
    "# Added by Steve\n",
    "added"
   ]
  },
  {
   "cell_type": "code",
   "execution_count": 21,
   "metadata": {},
   "outputs": [
    {
     "data": {
      "text/html": [
       "<table>\n",
       "<thead><tr><th scope=col>nces_number</th><th scope=col>lea_number</th><th scope=col>school_number</th><th scope=col>number_academic_year</th><th scope=col>lea_name</th><th scope=col>school_name</th><th scope=col>star_rating</th><th scope=col>total_earned_points_percent</th><th scope=col>percentile_rank_elementary</th><th scope=col>percentile_rank_middle</th><th scope=col>⋯</th><th scope=col>nmcbsa</th><th scope=col>cbsatype</th><th scope=col>csa</th><th scope=col>nmcsa</th><th scope=col>necta</th><th scope=col>nmnecta</th><th scope=col>cd</th><th scope=col>sldl</th><th scope=col>sldu</th><th scope=col>survyear</th></tr></thead>\n",
       "<tbody>\n",
       "\t<tr><td>240002701669                                  </td><td>32                                            </td><td>1000                                          </td><td>2018                                          </td><td>SEED                                          </td><td>The Seed School of Maryland                   </td><td>2                                             </td><td>42                                            </td><td>NA                                            </td><td>8                                             </td><td>⋯                                             </td><td>Baltimore-Columbia-Towson, MD                 </td><td>1                                             </td><td>548                                           </td><td>Washington-Baltimore-Arlington, DC-MD-VA-WV-PA</td><td>N                                             </td><td>N                                             </td><td>2407                                          </td><td>2444A                                         </td><td>24044                                         </td><td>2016                                          </td></tr>\n",
       "</tbody>\n",
       "</table>\n"
      ],
      "text/latex": [
       "\\begin{tabular}{r|llllllllllllllllllllllllllllllllllllllllll}\n",
       " nces\\_number & lea\\_number & school\\_number & number\\_academic\\_year & lea\\_name & school\\_name & star\\_rating & total\\_earned\\_points\\_percent & percentile\\_rank\\_elementary & percentile\\_rank\\_middle & ⋯ & nmcbsa & cbsatype & csa & nmcsa & necta & nmnecta & cd & sldl & sldu & survyear\\\\\n",
       "\\hline\n",
       "\t 240002701669                                   & 32                                             & 1000                                           & 2018                                           & SEED                                           & The Seed School of Maryland                    & 2                                              & 42                                             & NA                                             & 8                                              & ⋯                                              & Baltimore-Columbia-Towson, MD                  & 1                                              & 548                                            & Washington-Baltimore-Arlington, DC-MD-VA-WV-PA & N                                              & N                                              & 2407                                           & 2444A                                          & 24044                                          & 2016                                          \\\\\n",
       "\\end{tabular}\n"
      ],
      "text/markdown": [
       "\n",
       "nces_number | lea_number | school_number | number_academic_year | lea_name | school_name | star_rating | total_earned_points_percent | percentile_rank_elementary | percentile_rank_middle | ⋯ | nmcbsa | cbsatype | csa | nmcsa | necta | nmnecta | cd | sldl | sldu | survyear | \n",
       "|---|\n",
       "| 240002701669                                   | 32                                             | 1000                                           | 2018                                           | SEED                                           | The Seed School of Maryland                    | 2                                              | 42                                             | NA                                             | 8                                              | ⋯                                              | Baltimore-Columbia-Towson, MD                  | 1                                              | 548                                            | Washington-Baltimore-Arlington, DC-MD-VA-WV-PA | N                                              | N                                              | 2407                                           | 2444A                                          | 24044                                          | 2016                                           | \n",
       "\n",
       "\n"
      ],
      "text/plain": [
       "  nces_number  lea_number school_number number_academic_year lea_name\n",
       "1 240002701669 32         1000          2018                 SEED    \n",
       "  school_name                 star_rating total_earned_points_percent\n",
       "1 The Seed School of Maryland 2           42                         \n",
       "  percentile_rank_elementary percentile_rank_middle ⋯\n",
       "1 NA                         8                      ⋯\n",
       "  nmcbsa                        cbsatype csa\n",
       "1 Baltimore-Columbia-Towson, MD 1        548\n",
       "  nmcsa                                          necta nmnecta cd   sldl  sldu \n",
       "1 Washington-Baltimore-Arlington, DC-MD-VA-WV-PA N     N       2407 2444A 24044\n",
       "  survyear\n",
       "1 2016    "
      ]
     },
     "metadata": {},
     "output_type": "display_data"
    }
   ],
   "source": [
    "# Added by Steve\n",
    "head(scores.geo, 1)"
   ]
  },
  {
   "cell_type": "code",
   "execution_count": 13,
   "metadata": {},
   "outputs": [],
   "source": [
    "scores.geo.added <- merge(scores.geo, added, by = c('lea_number', 'school_number'), all.x = T)"
   ]
  },
  {
   "cell_type": "code",
   "execution_count": 27,
   "metadata": {},
   "outputs": [],
   "source": [
    "scores.geo.added <- scores.geo.added %>% mutate(lat = ifelse(is.na(lat.x), lat.y, lat.x), \n",
    "                            lon = ifelse(is.na(lon.x), lon.y, lon.x),\n",
    "                            address = ifelse(is.na(address.x), as.character(address.y), as.character(address.x)),\n",
    "                            city_msde = ifelse(is.na(city_msde.x), as.character(city_msde.y), as.character(city_msde.x)))"
   ]
  },
  {
   "cell_type": "code",
   "execution_count": 28,
   "metadata": {},
   "outputs": [],
   "source": [
    "scores.geo.added <- scores.geo.added %>% select(lea_number, \n",
    "                                                lea_name, \n",
    "                                                school_number, \n",
    "                                                school_name = school_name.x,\n",
    "                                                nces_number, \n",
    "                                                number_academic_year,\n",
    "                                                star_rating,\n",
    "                                                total_earned_points_percent,\n",
    "                                                percentile_rank_elementary,\n",
    "                                                percentile_rank_middle,\n",
    "                                                percentile_rank_high,\n",
    "                                                address,\n",
    "                                                city = city_msde,\n",
    "                                                lat,\n",
    "                                                lon)"
   ]
  },
  {
   "cell_type": "code",
   "execution_count": 29,
   "metadata": {},
   "outputs": [
    {
     "data": {
      "text/html": [
       "<table>\n",
       "<thead><tr><th scope=col>lea_number</th><th scope=col>lea_name</th><th scope=col>school_number</th><th scope=col>school_name</th><th scope=col>nces_number</th><th scope=col>number_academic_year</th><th scope=col>star_rating</th><th scope=col>total_earned_points_percent</th><th scope=col>percentile_rank_elementary</th><th scope=col>percentile_rank_middle</th><th scope=col>percentile_rank_high</th><th scope=col>address</th><th scope=col>city</th><th scope=col>lat</th><th scope=col>lon</th></tr></thead>\n",
       "<tbody>\n",
       "\t<tr><td>01                     </td><td>Allegany               </td><td>0301                   </td><td>Flintstone Elementary  </td><td>240003000014           </td><td>2018                   </td><td>4                      </td><td>64                     </td><td>52                     </td><td>NA                     </td><td>NA                     </td><td>22000 National Pike Ne </td><td>Flintstone             </td><td>39.70142               </td><td>-78.56444              </td></tr>\n",
       "\t<tr><td>01                     </td><td>Allegany               </td><td>0401                   </td><td>South Penn Elementary  </td><td>240003001359           </td><td>2018                   </td><td>4                      </td><td>65                     </td><td>52                     </td><td>NA                     </td><td>NA                     </td><td>500 E 2nd St           </td><td>Cumberland             </td><td>39.63587               </td><td>-78.75656              </td></tr>\n",
       "\t<tr><td>01                     </td><td>Allegany               </td><td>0402                   </td><td>John Humbird Elementary</td><td>240003000019           </td><td>2018                   </td><td>4                      </td><td>69                     </td><td>67                     </td><td>NA                     </td><td>NA                     </td><td>120 Mary St            </td><td>Cumberland             </td><td>39.62558               </td><td>-78.76561              </td></tr>\n",
       "\t<tr><td>01                     </td><td>Allegany               </td><td>0405                   </td><td>Fort Hill High         </td><td>240003000015           </td><td>2018                   </td><td>3                      </td><td>59                     </td><td>NA                     </td><td>NA                     </td><td>45                     </td><td>500 Greenway Ave       </td><td>Cumberland             </td><td>39.64434               </td><td>-78.74767              </td></tr>\n",
       "\t<tr><td>01                     </td><td>Allegany               </td><td>0406                   </td><td>Washington Middle      </td><td>240003000031           </td><td>2018                   </td><td>3                      </td><td>56                     </td><td>NA                     </td><td>49                     </td><td>NA                     </td><td>200 Massachusetts Ave  </td><td>Cumberland             </td><td>39.63866               </td><td>-78.74586              </td></tr>\n",
       "\t<tr><td>01                     </td><td>Allegany               </td><td>0502                   </td><td>Northeast Elementary   </td><td>240003000024           </td><td>2018                   </td><td>5                      </td><td>79                     </td><td>91                     </td><td>NA                     </td><td>NA                     </td><td>11001 Forest Ave Ne    </td><td>Cumberland             </td><td>39.67864               </td><td>-78.75872              </td></tr>\n",
       "</tbody>\n",
       "</table>\n"
      ],
      "text/latex": [
       "\\begin{tabular}{r|lllllllllllllll}\n",
       " lea\\_number & lea\\_name & school\\_number & school\\_name & nces\\_number & number\\_academic\\_year & star\\_rating & total\\_earned\\_points\\_percent & percentile\\_rank\\_elementary & percentile\\_rank\\_middle & percentile\\_rank\\_high & address & city & lat & lon\\\\\n",
       "\\hline\n",
       "\t 01                      & Allegany                & 0301                    & Flintstone Elementary   & 240003000014            & 2018                    & 4                       & 64                      & 52                      & NA                      & NA                      & 22000 National Pike Ne  & Flintstone              & 39.70142                & -78.56444              \\\\\n",
       "\t 01                      & Allegany                & 0401                    & South Penn Elementary   & 240003001359            & 2018                    & 4                       & 65                      & 52                      & NA                      & NA                      & 500 E 2nd St            & Cumberland              & 39.63587                & -78.75656              \\\\\n",
       "\t 01                      & Allegany                & 0402                    & John Humbird Elementary & 240003000019            & 2018                    & 4                       & 69                      & 67                      & NA                      & NA                      & 120 Mary St             & Cumberland              & 39.62558                & -78.76561              \\\\\n",
       "\t 01                      & Allegany                & 0405                    & Fort Hill High          & 240003000015            & 2018                    & 3                       & 59                      & NA                      & NA                      & 45                      & 500 Greenway Ave        & Cumberland              & 39.64434                & -78.74767              \\\\\n",
       "\t 01                      & Allegany                & 0406                    & Washington Middle       & 240003000031            & 2018                    & 3                       & 56                      & NA                      & 49                      & NA                      & 200 Massachusetts Ave   & Cumberland              & 39.63866                & -78.74586              \\\\\n",
       "\t 01                      & Allegany                & 0502                    & Northeast Elementary    & 240003000024            & 2018                    & 5                       & 79                      & 91                      & NA                      & NA                      & 11001 Forest Ave Ne     & Cumberland              & 39.67864                & -78.75872              \\\\\n",
       "\\end{tabular}\n"
      ],
      "text/markdown": [
       "\n",
       "lea_number | lea_name | school_number | school_name | nces_number | number_academic_year | star_rating | total_earned_points_percent | percentile_rank_elementary | percentile_rank_middle | percentile_rank_high | address | city | lat | lon | \n",
       "|---|---|---|---|---|---|\n",
       "| 01                      | Allegany                | 0301                    | Flintstone Elementary   | 240003000014            | 2018                    | 4                       | 64                      | 52                      | NA                      | NA                      | 22000 National Pike Ne  | Flintstone              | 39.70142                | -78.56444               | \n",
       "| 01                      | Allegany                | 0401                    | South Penn Elementary   | 240003001359            | 2018                    | 4                       | 65                      | 52                      | NA                      | NA                      | 500 E 2nd St            | Cumberland              | 39.63587                | -78.75656               | \n",
       "| 01                      | Allegany                | 0402                    | John Humbird Elementary | 240003000019            | 2018                    | 4                       | 69                      | 67                      | NA                      | NA                      | 120 Mary St             | Cumberland              | 39.62558                | -78.76561               | \n",
       "| 01                      | Allegany                | 0405                    | Fort Hill High          | 240003000015            | 2018                    | 3                       | 59                      | NA                      | NA                      | 45                      | 500 Greenway Ave        | Cumberland              | 39.64434                | -78.74767               | \n",
       "| 01                      | Allegany                | 0406                    | Washington Middle       | 240003000031            | 2018                    | 3                       | 56                      | NA                      | 49                      | NA                      | 200 Massachusetts Ave   | Cumberland              | 39.63866                | -78.74586               | \n",
       "| 01                      | Allegany                | 0502                    | Northeast Elementary    | 240003000024            | 2018                    | 5                       | 79                      | 91                      | NA                      | NA                      | 11001 Forest Ave Ne     | Cumberland              | 39.67864                | -78.75872               | \n",
       "\n",
       "\n"
      ],
      "text/plain": [
       "  lea_number lea_name school_number school_name             nces_number \n",
       "1 01         Allegany 0301          Flintstone Elementary   240003000014\n",
       "2 01         Allegany 0401          South Penn Elementary   240003001359\n",
       "3 01         Allegany 0402          John Humbird Elementary 240003000019\n",
       "4 01         Allegany 0405          Fort Hill High          240003000015\n",
       "5 01         Allegany 0406          Washington Middle       240003000031\n",
       "6 01         Allegany 0502          Northeast Elementary    240003000024\n",
       "  number_academic_year star_rating total_earned_points_percent\n",
       "1 2018                 4           64                         \n",
       "2 2018                 4           65                         \n",
       "3 2018                 4           69                         \n",
       "4 2018                 3           59                         \n",
       "5 2018                 3           56                         \n",
       "6 2018                 5           79                         \n",
       "  percentile_rank_elementary percentile_rank_middle percentile_rank_high\n",
       "1 52                         NA                     NA                  \n",
       "2 52                         NA                     NA                  \n",
       "3 67                         NA                     NA                  \n",
       "4 NA                         NA                     45                  \n",
       "5 NA                         49                     NA                  \n",
       "6 91                         NA                     NA                  \n",
       "  address                city       lat      lon      \n",
       "1 22000 National Pike Ne Flintstone 39.70142 -78.56444\n",
       "2 500 E 2nd St           Cumberland 39.63587 -78.75656\n",
       "3 120 Mary St            Cumberland 39.62558 -78.76561\n",
       "4 500 Greenway Ave       Cumberland 39.64434 -78.74767\n",
       "5 200 Massachusetts Ave  Cumberland 39.63866 -78.74586\n",
       "6 11001 Forest Ave Ne    Cumberland 39.67864 -78.75872"
      ]
     },
     "metadata": {},
     "output_type": "display_data"
    }
   ],
   "source": [
    "head(scores.geo.added)"
   ]
  },
  {
   "cell_type": "markdown",
   "metadata": {},
   "source": [
    "Write to `output/` folder"
   ]
  },
  {
   "cell_type": "code",
   "execution_count": 30,
   "metadata": {},
   "outputs": [],
   "source": [
    "write_csv(scores.geo.added, 'output/scores_clean.csv')"
   ]
  }
 ],
 "metadata": {
  "kernelspec": {
   "display_name": "R",
   "language": "R",
   "name": "ir"
  },
  "language_info": {
   "codemirror_mode": "r",
   "file_extension": ".r",
   "mimetype": "text/x-r-source",
   "name": "R",
   "pygments_lexer": "r",
   "version": "3.5.1"
  }
 },
 "nbformat": 4,
 "nbformat_minor": 2
}
